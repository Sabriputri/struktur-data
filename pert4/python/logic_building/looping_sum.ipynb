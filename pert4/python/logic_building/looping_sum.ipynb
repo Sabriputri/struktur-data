{
 "cells": [
  {
   "cell_type": "markdown",
   "id": "d08efcc8",
   "metadata": {},
   "source": [
    "In [1]"
   ]
  },
  {
   "cell_type": "code",
   "execution_count": 1,
   "id": "230325e2",
   "metadata": {},
   "outputs": [],
   "source": [
    "def findSum(n):\n",
    "    sum = 0\n",
    "    x = 1\n",
    "    while x <= n:\n",
    "        sum = sum + x\n",
    "        x = x + 1\n",
    "    return sum"
   ]
  },
  {
   "cell_type": "markdown",
   "id": "b494f4b4",
   "metadata": {},
   "source": [
    "In [2]"
   ]
  },
  {
   "cell_type": "code",
   "execution_count": 2,
   "id": "925078be",
   "metadata": {},
   "outputs": [
    {
     "name": "stdout",
     "output_type": "stream",
     "text": [
      "15\n"
     ]
    }
   ],
   "source": [
    "n = 5\n",
    "print(findSum(n))"
   ]
  }
 ],
 "metadata": {
  "kernelspec": {
   "display_name": "Python 3",
   "language": "python",
   "name": "python3"
  },
  "language_info": {
   "codemirror_mode": {
    "name": "ipython",
    "version": 3
   },
   "file_extension": ".py",
   "mimetype": "text/x-python",
   "name": "python",
   "nbconvert_exporter": "python",
   "pygments_lexer": "ipython3",
   "version": "3.12.3"
  }
 },
 "nbformat": 4,
 "nbformat_minor": 5
}
