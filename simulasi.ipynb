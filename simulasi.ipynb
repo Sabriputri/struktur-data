{
 "cells": [
  {
   "cell_type": "markdown",
   "id": "c448b4fb",
   "metadata": {},
   "source": [
    "buatkan nama, nim, jumlahkan nim, buat hitung variabel yang diambil"
   ]
  },
  {
   "cell_type": "code",
   "execution_count": 15,
   "id": "4135f4d1",
   "metadata": {},
   "outputs": [
    {
     "name": "stdout",
     "output_type": "stream",
     "text": [
      "Nama: Putri Sabrina Metekohy\n",
      "NIM: 0240801025\n",
      "Jumlah : 10\n"
     ]
    }
   ],
   "source": [
    "nama =\"Putri Sabrina Metekohy\"\n",
    "nim = \"0240801025\"\n",
    "\n",
    "\n",
    "jumlah_angka = len(nim)\n",
    "\n",
    "print (\"Nama:\" , nama)\n",
    "print (\"NIM:\", nim)\n",
    "print (\"Jumlah :\", jumlah_angka)"
   ]
  },
  {
   "cell_type": "code",
   "execution_count": 59,
   "id": "3cbb0524",
   "metadata": {},
   "outputs": [
    {
     "name": "stdout",
     "output_type": "stream",
     "text": [
      "putri\n",
      "08\n"
     ]
    }
   ],
   "source": [
    "print (\"putri\")\n",
    "print (\"08\")"
   ]
  },
  {
   "cell_type": "code",
   "execution_count": 45,
   "id": "46a36586",
   "metadata": {},
   "outputs": [
    {
     "name": "stdout",
     "output_type": "stream",
     "text": [
      "Nama: Putri Sabrina \n",
      "NIM: 02\n",
      "Jumlah : 2\n"
     ]
    }
   ],
   "source": [
    "nama =\"Putri Sabrina \"\n",
    "nim = \"02\"\n",
    "jumlah_angka = len(nim)\n",
    "\n",
    "print (\"Nama:\" , nama)\n",
    "print (\"NIM:\", nim)\n",
    "print (\"Jumlah :\", jumlah_angka)"
   ]
  },
  {
   "cell_type": "code",
   "execution_count": 44,
   "id": "6de5abcd",
   "metadata": {},
   "outputs": [
    {
     "name": "stdout",
     "output_type": "stream",
     "text": [
      "Nama = putri sabrina\n",
      "NIM = 25\n"
     ]
    }
   ],
   "source": [
    "nama =\"putri sabrina\"\n",
    "nim = \"25\"\n",
    "\n",
    "\n",
    "print (\"Nama =\" , nama)\n",
    "print (\"NIM =\" , nim)\n",
    "\n"
   ]
  },
  {
   "cell_type": "code",
   "execution_count": 28,
   "id": "e396f74e",
   "metadata": {},
   "outputs": [
    {
     "name": "stdout",
     "output_type": "stream",
     "text": [
      "nama: brina\n",
      "nim: 008\n",
      "jumlah_angka:  3\n"
     ]
    }
   ],
   "source": [
    "nama = \"brina\"\n",
    "nim = \"008\"\n",
    "\n",
    "jumlah_angka = len(nim)\n",
    "\n",
    "print (\"nama:\" , nama)\n",
    "print (\"nim:\" , nim)\n",
    "print (\"jumlah_angka: \" , jumlah_angka)"
   ]
  },
  {
   "cell_type": "code",
   "execution_count": 18,
   "id": "97ad92ad",
   "metadata": {},
   "outputs": [
    {
     "name": "stdout",
     "output_type": "stream",
     "text": [
      "Nama: Putri Sabrina \n",
      "NIM: 20240801025\n",
      "Jumlah : 10\n"
     ]
    }
   ],
   "source": [
    "Nim : 20240801025\n",
    "jumlah_angka = len(nim)\n",
    "\n",
    "print (\"Nama: Putri Sabrina \")\n",
    "print (\"NIM: 20240801025\"  )\n",
    "print (\"Jumlah :\", jumlah_angka)"
   ]
  },
  {
   "cell_type": "code",
   "execution_count": 10,
   "id": "d5cfb37b",
   "metadata": {},
   "outputs": [
    {
     "ename": "SyntaxError",
     "evalue": "unterminated string literal (detected at line 7) (3534032495.py, line 7)",
     "output_type": "error",
     "traceback": [
      "  \u001b[36mCell\u001b[39m\u001b[36m \u001b[39m\u001b[32mIn[10]\u001b[39m\u001b[32m, line 7\u001b[39m\n\u001b[31m    \u001b[39m\u001b[31mprint (\"NIM:\" , 24\")\u001b[39m\n                      ^\n\u001b[31mSyntaxError\u001b[39m\u001b[31m:\u001b[39m unterminated string literal (detected at line 7)\n"
     ]
    }
   ],
   "source": [
    "Nama : putri sabrina\n",
    "NIM : 24\n",
    "\n",
    "jumlah_angka = len(NiM)\n",
    "\n",
    "print (\"Nama:\" , putri sabrina)\n",
    "print (\"NIM:\" , 24\")\n",
    "print (\"jumlah_angka:\" , jumlah_angka)"
   ]
  },
  {
   "cell_type": "code",
   "execution_count": 11,
   "id": "97fc4e8e",
   "metadata": {},
   "outputs": [
    {
     "name": "stdout",
     "output_type": "stream",
     "text": [
      "6\n"
     ]
    }
   ],
   "source": [
    "a = 3\n",
    "b = 2\n",
    "\n",
    "operasi = ( 3 * 2  )\n",
    "\n",
    "print (operasi)\n"
   ]
  },
  {
   "cell_type": "code",
   "execution_count": 43,
   "id": "26273d2a",
   "metadata": {},
   "outputs": [
    {
     "name": "stdout",
     "output_type": "stream",
     "text": [
      "('Jumlahan = ', 20)\n"
     ]
    }
   ],
   "source": [
    "p = 4\n",
    "s  = 5\n",
    "\n",
    "operasi =( \"Jumlahan = \" , p * s )\n",
    "\n",
    "print(operasi)"
   ]
  },
  {
   "cell_type": "code",
   "execution_count": null,
   "id": "13dadfef",
   "metadata": {},
   "outputs": [
    {
     "name": "stdout",
     "output_type": "stream",
     "text": [
      "(6, 10)\n"
     ]
    }
   ],
   "source": [
    "a = 3\n",
    "b = 8\n",
    "\n",
    "hasil = ( 10)\n",
    "\n",
    "print (hasil)"
   ]
  },
  {
   "cell_type": "code",
   "execution_count": 58,
   "id": "dcf8a7cd",
   "metadata": {},
   "outputs": [
    {
     "name": "stdout",
     "output_type": "stream",
     "text": [
      "3 * 2 = 10\n"
     ]
    }
   ],
   "source": [
    "print ( \"3 * 2 = 10\")"
   ]
  },
  {
   "cell_type": "code",
   "execution_count": 2,
   "id": "58e1961c",
   "metadata": {},
   "outputs": [
    {
     "name": "stdout",
     "output_type": "stream",
     "text": [
      "Nama Depan   : Putri\n",
      "Nama Tengah  : Sabrina\n",
      "Nama Belakang: Metekohy\n"
     ]
    }
   ],
   "source": [
    "nama = \"Putri Sabrina Metekohy\"\n",
    "nim = \"0240801025\"\n",
    "\n",
    "nama_split = nama.split()\n",
    "nama_depan = nama_split[0]\n",
    "nama_tengah = nama_split[1]\n",
    "nama_belakang = nama_split[2]\n",
    "\n",
    "\n",
    "# Output\n",
    "print(\"Nama Depan   :\", nama_depan)\n",
    "print(\"Nama Tengah  :\", nama_tengah)\n",
    "print(\"Nama Belakang:\", nama_belakang)\n",
    "\n"
   ]
  },
  {
   "cell_type": "code",
   "execution_count": 61,
   "id": "ba6c1bc6",
   "metadata": {},
   "outputs": [
    {
     "name": "stdout",
     "output_type": "stream",
     "text": [
      "putri\n",
      "sabrina\n",
      "metekohy\n"
     ]
    }
   ],
   "source": [
    "print(\"putri\")\n",
    "print(\"sabrina\")\n",
    "print(\"metekohy\")"
   ]
  },
  {
   "cell_type": "code",
   "execution_count": 3,
   "id": "37eb9c78",
   "metadata": {},
   "outputs": [
    {
     "name": "stdout",
     "output_type": "stream",
     "text": [
      "hasil dari penjumlahan =  6\n",
      "20\n"
     ]
    }
   ],
   "source": [
    "int = 3\n",
    "int = 3\n",
    "\n",
    "operasi = ( 3 * 2 )\n",
    "\n",
    "print (\"hasil dari penjumlahan = \", operasi)\n",
    "\n",
    "def jumlah(angka1, angka2):\n",
    "    jumlah = angka1 * angka2\n",
    "    print(jumlah)\n",
    "\n",
    "jumlah(5,4)"
   ]
  },
  {
   "cell_type": "code",
   "execution_count": 4,
   "id": "f6e9845f",
   "metadata": {},
   "outputs": [
    {
     "name": "stdout",
     "output_type": "stream",
     "text": [
      "Kamu belum cukup umur untuk bikin KTP.\n"
     ]
    }
   ],
   "source": [
    "umur = 14\n",
    "\n",
    "if umur <= 17:\n",
    "    print(\"Kamu belum cukup umur untuk bikin KTP.\")\n"
   ]
  },
  {
   "cell_type": "code",
   "execution_count": 62,
   "id": "0f0a33e4",
   "metadata": {},
   "outputs": [
    {
     "name": "stdout",
     "output_type": "stream",
     "text": [
      "10\n"
     ]
    }
   ],
   "source": [
    "a = 4\n",
    "b = 6\n",
    "\n",
    "hasil = ( a + b)\n",
    "print(operasi)"
   ]
  }
 ],
 "metadata": {
  "kernelspec": {
   "display_name": "Python 3",
   "language": "python",
   "name": "python3"
  },
  "language_info": {
   "codemirror_mode": {
    "name": "ipython",
    "version": 3
   },
   "file_extension": ".py",
   "mimetype": "text/x-python",
   "name": "python",
   "nbconvert_exporter": "python",
   "pygments_lexer": "ipython3",
   "version": "3.12.3"
  }
 },
 "nbformat": 4,
 "nbformat_minor": 5
}
