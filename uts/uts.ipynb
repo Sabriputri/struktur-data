{
 "cells": [
  {
   "cell_type": "code",
   "execution_count": 16,
   "id": "533a8def",
   "metadata": {},
   "outputs": [
    {
     "name": "stdout",
     "output_type": "stream",
     "text": [
      "brina 08\n",
      "jumlah_angka: 2\n",
      "Jumlah angka: 8\n"
     ]
    }
   ],
   "source": [
    "nama = \"brina\"\n",
    "nim = \"08\"\n",
    "\n",
    "\n",
    "jumlah_angka = len(nim)\n",
    "jumlah = sum(int(angka) for angka in nim)\n",
    "print (nama, nim)\n",
    "\n",
    "print (\"jumlah_angka:\", jumlah_angka)\n",
    "print(\"Jumlah angka:\", jumlah)"
   ]
  }
 ],
 "metadata": {
  "kernelspec": {
   "display_name": "Python 3",
   "language": "python",
   "name": "python3"
  },
  "language_info": {
   "codemirror_mode": {
    "name": "ipython",
    "version": 3
   },
   "file_extension": ".py",
   "mimetype": "text/x-python",
   "name": "python",
   "nbconvert_exporter": "python",
   "pygments_lexer": "ipython3",
   "version": "3.12.3"
  }
 },
 "nbformat": 4,
 "nbformat_minor": 5
}
