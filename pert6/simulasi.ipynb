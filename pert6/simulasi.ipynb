{
 "cells": [
  {
   "cell_type": "markdown",
   "id": "c448b4fb",
   "metadata": {},
   "source": [
    "buatkan nama, nim, jumlahkan nim, buat hitung variabel yang diambil"
   ]
  },
  {
   "cell_type": "code",
   "execution_count": 15,
   "id": "4135f4d1",
   "metadata": {},
   "outputs": [
    {
     "name": "stdout",
     "output_type": "stream",
     "text": [
      "Nama: Putri Sabrina Metekohy\n",
      "NIM: 0240801025\n",
      "Jumlah : 10\n"
     ]
    }
   ],
   "source": [
    "nama =\"Putri Sabrina Metekohy\"\n",
    "nim = \"0240801025\"\n",
    "\n",
    "\n",
    "jumlah_angka = len(nim)\n",
    "\n",
    "print (\"Nama:\" , nama)\n",
    "print (\"NIM:\", nim)\n",
    "print (\"Jumlah :\", jumlah_angka)"
   ]
  },
  {
   "cell_type": "code",
   "execution_count": 18,
   "id": "97ad92ad",
   "metadata": {},
   "outputs": [
    {
     "name": "stdout",
     "output_type": "stream",
     "text": [
      "Nama: Putri Sabrina \n",
      "NIM: 20240801025\n",
      "Jumlah : 10\n"
     ]
    }
   ],
   "source": [
    "Nim : 20240801025\n",
    "jumlah_angka = len(nim)\n",
    "\n",
    "print (\"Nama: Putri Sabrina \")\n",
    "print (\"NIM: 20240801025\"  )\n",
    "print (\"Jumlah :\", jumlah_angka)"
   ]
  },
  {
   "cell_type": "code",
   "execution_count": 11,
   "id": "97fc4e8e",
   "metadata": {},
   "outputs": [
    {
     "name": "stdout",
     "output_type": "stream",
     "text": [
      "6\n"
     ]
    }
   ],
   "source": [
    "a = 3\n",
    "b = 2\n",
    "\n",
    "operasi = ( 3 * 2  )\n",
    "\n",
    "print (operasi)\n"
   ]
  },
  {
   "cell_type": "code",
   "execution_count": 16,
   "id": "58e1961c",
   "metadata": {},
   "outputs": [
    {
     "name": "stdout",
     "output_type": "stream",
     "text": [
      "Nama Depan   : Putri\n",
      "Nama Tengah  : Sabrina\n",
      "Nama Belakang: Metekohy\n"
     ]
    }
   ],
   "source": [
    "nama = \"Putri Sabrina Metekohy\"\n",
    "nim = \"0240801025\"\n",
    "\n",
    "nama_split = nama.split()\n",
    "nama_depan = nama_split[0]\n",
    "nama_tengah = nama_split[1]\n",
    "nama_belakang = nama_split[2]\n",
    "\n",
    "\n",
    "# Output\n",
    "print(\"Nama Depan   :\", nama_depan)\n",
    "print(\"Nama Tengah  :\", nama_tengah)\n",
    "print(\"Nama Belakang:\", nama_belakang)\n",
    "\n"
   ]
  },
  {
   "cell_type": "code",
   "execution_count": 17,
   "id": "37eb9c78",
   "metadata": {},
   "outputs": [
    {
     "name": "stdout",
     "output_type": "stream",
     "text": [
      "6\n"
     ]
    }
   ],
   "source": [
    "int = 3\n",
    "int = 3\n",
    "\n",
    "operasi = ( 3 * 2  )\n",
    "\n",
    "print (operasi)\n"
   ]
  }
 ],
 "metadata": {
  "kernelspec": {
   "display_name": "Python 3",
   "language": "python",
   "name": "python3"
  },
  "language_info": {
   "codemirror_mode": {
    "name": "ipython",
    "version": 3
   },
   "file_extension": ".py",
   "mimetype": "text/x-python",
   "name": "python",
   "nbconvert_exporter": "python",
   "pygments_lexer": "ipython3",
   "version": "3.12.3"
  }
 },
 "nbformat": 4,
 "nbformat_minor": 5
}
