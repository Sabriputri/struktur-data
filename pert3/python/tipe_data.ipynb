{
 "cells": [
  {
   "cell_type": "code",
   "execution_count": null,
   "id": "416b5921",
   "metadata": {},
   "outputs": [],
   "source": [
    "Int(integar)"
   ]
  },
  {
   "cell_type": "code",
   "execution_count": 1,
   "id": "b0a237b2",
   "metadata": {},
   "outputs": [
    {
     "name": "stdout",
     "output_type": "stream",
     "text": [
      "20\n"
     ]
    }
   ],
   "source": [
    "num = 10;\n",
    "num2 = 10;\n",
    "\n",
    "print(num + num2)"
   ]
  },
  {
   "cell_type": "code",
   "execution_count": null,
   "id": "e59f9d6d",
   "metadata": {},
   "outputs": [],
   "source": [
    "String"
   ]
  },
  {
   "cell_type": "code",
   "execution_count": null,
   "id": "4836fd91",
   "metadata": {},
   "outputs": [],
   "source": [
    "b = \"hello\"\n",
    "print(nama)\n",
    "print(type(c))"
   ]
  },
  {
   "cell_type": "code",
   "execution_count": null,
   "id": "ad0b41cc",
   "metadata": {},
   "outputs": [],
   "source": [
    "Complex "
   ]
  },
  {
   "cell_type": "code",
   "execution_count": null,
   "id": "872cd7a5",
   "metadata": {},
   "outputs": [],
   "source": [
    "d = 1j\n",
    "print(d)\n",
    "print(type(d))"
   ]
  },
  {
   "cell_type": "code",
   "execution_count": null,
   "id": "8d71fd92",
   "metadata": {},
   "outputs": [],
   "source": [
    "List"
   ]
  },
  {
   "cell_type": "code",
   "execution_count": null,
   "id": "b6048fb1",
   "metadata": {},
   "outputs": [],
   "source": [
    "e = [\"a\",\"b\",\"c\"]\n",
    "print(e)\n",
    "print(type(e))"
   ]
  },
  {
   "cell_type": "code",
   "execution_count": null,
   "id": "827f6f7f",
   "metadata": {},
   "outputs": [],
   "source": [
    "Tupple"
   ]
  },
  {
   "cell_type": "code",
   "execution_count": null,
   "id": "6220cbdd",
   "metadata": {},
   "outputs": [],
   "source": [
    "f = (\"a\",\"b\",\"c\")\n",
    "print(f)\n",
    "print(type(f))"
   ]
  },
  {
   "cell_type": "code",
   "execution_count": null,
   "id": "405f294f",
   "metadata": {},
   "outputs": [],
   "source": [
    "Range"
   ]
  },
  {
   "cell_type": "code",
   "execution_count": null,
   "id": "88e5072f",
   "metadata": {},
   "outputs": [],
   "source": [
    "g = range(5)\n",
    "print(g)\n",
    "print(type(g))"
   ]
  },
  {
   "cell_type": "code",
   "execution_count": null,
   "id": "1f7999ee",
   "metadata": {},
   "outputs": [],
   "source": [
    "Set"
   ]
  },
  {
   "cell_type": "code",
   "execution_count": null,
   "id": "14c269d0",
   "metadata": {},
   "outputs": [],
   "source": [
    "h = {\"ani\", \"budi\"}\n",
    "print(h)\n",
    "print(type(h))"
   ]
  },
  {
   "cell_type": "code",
   "execution_count": null,
   "id": "2b9d5872",
   "metadata": {},
   "outputs": [],
   "source": [
    "Dict"
   ]
  },
  {
   "cell_type": "code",
   "execution_count": null,
   "id": "6f1f07be",
   "metadata": {},
   "outputs": [],
   "source": [
    "i = {\"nama\" : \"ani\"}\n",
    "print(i)\n",
    "print(type(i))"
   ]
  },
  {
   "cell_type": "code",
   "execution_count": null,
   "id": "0edc6390",
   "metadata": {},
   "outputs": [],
   "source": [
    "Frozenset"
   ]
  },
  {
   "cell_type": "code",
   "execution_count": null,
   "id": "1c2798f5",
   "metadata": {},
   "outputs": [],
   "source": [
    "j = frozenset({\"ani\", \"budi\"})\n",
    "print(j)\n",
    "print(type(j))"
   ]
  },
  {
   "cell_type": "code",
   "execution_count": null,
   "id": "81333be4",
   "metadata": {},
   "outputs": [],
   "source": [
    "Bool"
   ]
  },
  {
   "cell_type": "code",
   "execution_count": null,
   "id": "54e254ed",
   "metadata": {},
   "outputs": [],
   "source": [
    "k = True\n",
    "print(k)\n",
    "print(type(k))"
   ]
  },
  {
   "cell_type": "code",
   "execution_count": null,
   "id": "fdeb8fec",
   "metadata": {},
   "outputs": [],
   "source": [
    "Bytes"
   ]
  },
  {
   "cell_type": "code",
   "execution_count": null,
   "id": "2c306efd",
   "metadata": {},
   "outputs": [],
   "source": [
    "l = b\"hello\"\n",
    "print(l)\n",
    "print(type(l))"
   ]
  },
  {
   "cell_type": "markdown",
   "id": "8495a86f",
   "metadata": {},
   "source": [
    "Byte Array"
   ]
  },
  {
   "cell_type": "code",
   "execution_count": null,
   "id": "e840b602",
   "metadata": {},
   "outputs": [],
   "source": [
    "m = bytearray(5)\n",
    "print(m)\n",
    "print(type(m))"
   ]
  },
  {
   "cell_type": "markdown",
   "id": "bd5223ff",
   "metadata": {},
   "source": [
    "Memory View"
   ]
  },
  {
   "cell_type": "code",
   "execution_count": null,
   "id": "12281e94",
   "metadata": {},
   "outputs": [],
   "source": [
    "n = memoryview(bytes(5))\n",
    "print(n)\n",
    "print(type(n))"
   ]
  },
  {
   "cell_type": "code",
   "execution_count": null,
   "id": "feea8872",
   "metadata": {},
   "outputs": [],
   "source": [
    "None"
   ]
  },
  {
   "cell_type": "code",
   "execution_count": null,
   "id": "a2fe8fb0",
   "metadata": {},
   "outputs": [],
   "source": [
    "o = None\n",
    "print(o)\n",
    "print(type(o))"
   ]
  }
 ],
 "metadata": {
  "kernelspec": {
   "display_name": "Python 3",
   "language": "python",
   "name": "python3"
  },
  "language_info": {
   "codemirror_mode": {
    "name": "ipython",
    "version": 3
   },
   "file_extension": ".py",
   "mimetype": "text/x-python",
   "name": "python",
   "nbconvert_exporter": "python",
   "pygments_lexer": "ipython3",
   "version": "3.12.3"
  }
 },
 "nbformat": 4,
 "nbformat_minor": 5
}
